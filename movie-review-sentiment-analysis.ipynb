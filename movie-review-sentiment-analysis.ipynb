{
 "cells": [
  {
   "cell_type": "code",
   "execution_count": 4,
   "id": "f542f8e5",
   "metadata": {},
   "outputs": [],
   "source": [
    "import pandas as pd\n",
    "from sklearn.feature_extraction.text import TfidfVectorizer\n",
    "from sklearn.model_selection import train_test_split\n",
    "from sklearn.ensemble import RandomForestClassifier\n",
    "from sklearn.linear_model import LogisticRegression\n",
    "from sklearn.neighbors import KNeighborsClassifier\n",
    "from sklearn.svm import SVC\n",
    "from sklearn.naive_bayes import MultinomialNB\n",
    "from sklearn.tree import DecisionTreeClassifier\n",
    "from sklearn.metrics import accuracy_score"
   ]
  },
  {
   "cell_type": "code",
   "execution_count": 5,
   "id": "4dd0aca8",
   "metadata": {},
   "outputs": [],
   "source": [
    "movie_review = pd.read_csv(\"/Users/madankc/Desktop/Sentiment analysis/movie review/movie-sentiment-polarity.csv\")\n",
    "#movie_review = pd.read_csv(\"/Users/madankc/Desktop/Sentiment analysis/movie review/sentiment-polarity-movie.csv\")"
   ]
  },
  {
   "cell_type": "code",
   "execution_count": 6,
   "id": "16029ac7",
   "metadata": {},
   "outputs": [
    {
     "data": {
      "text/html": [
       "<div>\n",
       "<style scoped>\n",
       "    .dataframe tbody tr th:only-of-type {\n",
       "        vertical-align: middle;\n",
       "    }\n",
       "\n",
       "    .dataframe tbody tr th {\n",
       "        vertical-align: top;\n",
       "    }\n",
       "\n",
       "    .dataframe thead th {\n",
       "        text-align: right;\n",
       "    }\n",
       "</style>\n",
       "<table border=\"1\" class=\"dataframe\">\n",
       "  <thead>\n",
       "    <tr style=\"text-align: right;\">\n",
       "      <th></th>\n",
       "      <th>Review</th>\n",
       "      <th>Sentiment</th>\n",
       "    </tr>\n",
       "  </thead>\n",
       "  <tbody>\n",
       "    <tr>\n",
       "      <th>0</th>\n",
       "      <td>simplistic , silly and tedious .</td>\n",
       "      <td>0</td>\n",
       "    </tr>\n",
       "    <tr>\n",
       "      <th>1</th>\n",
       "      <td>it's so laddish and juvenile , only teenage bo...</td>\n",
       "      <td>0</td>\n",
       "    </tr>\n",
       "    <tr>\n",
       "      <th>2</th>\n",
       "      <td>exploitative and largely devoid of the depth o...</td>\n",
       "      <td>0</td>\n",
       "    </tr>\n",
       "    <tr>\n",
       "      <th>3</th>\n",
       "      <td>[garbus] discards the potential for pathologic...</td>\n",
       "      <td>0</td>\n",
       "    </tr>\n",
       "    <tr>\n",
       "      <th>4</th>\n",
       "      <td>a visually flashy but narratively opaque and e...</td>\n",
       "      <td>0</td>\n",
       "    </tr>\n",
       "    <tr>\n",
       "      <th>...</th>\n",
       "      <td>...</td>\n",
       "      <td>...</td>\n",
       "    </tr>\n",
       "    <tr>\n",
       "      <th>10657</th>\n",
       "      <td>both exuberantly romantic and serenely melanch...</td>\n",
       "      <td>1</td>\n",
       "    </tr>\n",
       "    <tr>\n",
       "      <th>10658</th>\n",
       "      <td>mazel tov to a film about a family's joyous li...</td>\n",
       "      <td>1</td>\n",
       "    </tr>\n",
       "    <tr>\n",
       "      <th>10659</th>\n",
       "      <td>standing in the shadows of motown is the best ...</td>\n",
       "      <td>1</td>\n",
       "    </tr>\n",
       "    <tr>\n",
       "      <th>10660</th>\n",
       "      <td>it's nice to see piscopo again after all these...</td>\n",
       "      <td>1</td>\n",
       "    </tr>\n",
       "    <tr>\n",
       "      <th>10661</th>\n",
       "      <td>provides a porthole into that noble , tremblin...</td>\n",
       "      <td>1</td>\n",
       "    </tr>\n",
       "  </tbody>\n",
       "</table>\n",
       "<p>10662 rows × 2 columns</p>\n",
       "</div>"
      ],
      "text/plain": [
       "                                                  Review  Sentiment\n",
       "0                       simplistic , silly and tedious .          0\n",
       "1      it's so laddish and juvenile , only teenage bo...          0\n",
       "2      exploitative and largely devoid of the depth o...          0\n",
       "3      [garbus] discards the potential for pathologic...          0\n",
       "4      a visually flashy but narratively opaque and e...          0\n",
       "...                                                  ...        ...\n",
       "10657  both exuberantly romantic and serenely melanch...          1\n",
       "10658  mazel tov to a film about a family's joyous li...          1\n",
       "10659  standing in the shadows of motown is the best ...          1\n",
       "10660  it's nice to see piscopo again after all these...          1\n",
       "10661  provides a porthole into that noble , tremblin...          1\n",
       "\n",
       "[10662 rows x 2 columns]"
      ]
     },
     "execution_count": 6,
     "metadata": {},
     "output_type": "execute_result"
    }
   ],
   "source": [
    "movie_review"
   ]
  },
  {
   "cell_type": "code",
   "execution_count": 7,
   "id": "6b3abb21",
   "metadata": {},
   "outputs": [
    {
     "data": {
      "text/html": [
       "<div>\n",
       "<style scoped>\n",
       "    .dataframe tbody tr th:only-of-type {\n",
       "        vertical-align: middle;\n",
       "    }\n",
       "\n",
       "    .dataframe tbody tr th {\n",
       "        vertical-align: top;\n",
       "    }\n",
       "\n",
       "    .dataframe thead th {\n",
       "        text-align: right;\n",
       "    }\n",
       "</style>\n",
       "<table border=\"1\" class=\"dataframe\">\n",
       "  <thead>\n",
       "    <tr style=\"text-align: right;\">\n",
       "      <th></th>\n",
       "      <th>Review</th>\n",
       "      <th>Sentiment</th>\n",
       "    </tr>\n",
       "  </thead>\n",
       "  <tbody>\n",
       "    <tr>\n",
       "      <th>0</th>\n",
       "      <td>simplistic , silly and tedious .</td>\n",
       "      <td>0</td>\n",
       "    </tr>\n",
       "    <tr>\n",
       "      <th>1</th>\n",
       "      <td>it's so laddish and juvenile , only teenage bo...</td>\n",
       "      <td>0</td>\n",
       "    </tr>\n",
       "    <tr>\n",
       "      <th>2</th>\n",
       "      <td>exploitative and largely devoid of the depth o...</td>\n",
       "      <td>0</td>\n",
       "    </tr>\n",
       "    <tr>\n",
       "      <th>3</th>\n",
       "      <td>[garbus] discards the potential for pathologic...</td>\n",
       "      <td>0</td>\n",
       "    </tr>\n",
       "    <tr>\n",
       "      <th>4</th>\n",
       "      <td>a visually flashy but narratively opaque and e...</td>\n",
       "      <td>0</td>\n",
       "    </tr>\n",
       "    <tr>\n",
       "      <th>...</th>\n",
       "      <td>...</td>\n",
       "      <td>...</td>\n",
       "    </tr>\n",
       "    <tr>\n",
       "      <th>10657</th>\n",
       "      <td>both exuberantly romantic and serenely melanch...</td>\n",
       "      <td>1</td>\n",
       "    </tr>\n",
       "    <tr>\n",
       "      <th>10658</th>\n",
       "      <td>mazel tov to a film about a family's joyous li...</td>\n",
       "      <td>1</td>\n",
       "    </tr>\n",
       "    <tr>\n",
       "      <th>10659</th>\n",
       "      <td>standing in the shadows of motown is the best ...</td>\n",
       "      <td>1</td>\n",
       "    </tr>\n",
       "    <tr>\n",
       "      <th>10660</th>\n",
       "      <td>it's nice to see piscopo again after all these...</td>\n",
       "      <td>1</td>\n",
       "    </tr>\n",
       "    <tr>\n",
       "      <th>10661</th>\n",
       "      <td>provides a porthole into that noble , tremblin...</td>\n",
       "      <td>1</td>\n",
       "    </tr>\n",
       "  </tbody>\n",
       "</table>\n",
       "<p>10662 rows × 2 columns</p>\n",
       "</div>"
      ],
      "text/plain": [
       "                                                  Review  Sentiment\n",
       "0                       simplistic , silly and tedious .          0\n",
       "1      it's so laddish and juvenile , only teenage bo...          0\n",
       "2      exploitative and largely devoid of the depth o...          0\n",
       "3      [garbus] discards the potential for pathologic...          0\n",
       "4      a visually flashy but narratively opaque and e...          0\n",
       "...                                                  ...        ...\n",
       "10657  both exuberantly romantic and serenely melanch...          1\n",
       "10658  mazel tov to a film about a family's joyous li...          1\n",
       "10659  standing in the shadows of motown is the best ...          1\n",
       "10660  it's nice to see piscopo again after all these...          1\n",
       "10661  provides a porthole into that noble , tremblin...          1\n",
       "\n",
       "[10662 rows x 2 columns]"
      ]
     },
     "execution_count": 7,
     "metadata": {},
     "output_type": "execute_result"
    }
   ],
   "source": [
    "movie_review"
   ]
  },
  {
   "cell_type": "code",
   "execution_count": 8,
   "id": "ebaa5488",
   "metadata": {},
   "outputs": [],
   "source": [
    "X_review = movie_review.iloc[:,0]"
   ]
  },
  {
   "cell_type": "code",
   "execution_count": 9,
   "id": "a9453d3a",
   "metadata": {},
   "outputs": [
    {
     "data": {
      "text/plain": [
       "0                         simplistic , silly and tedious .\n",
       "1        it's so laddish and juvenile , only teenage bo...\n",
       "2        exploitative and largely devoid of the depth o...\n",
       "3        [garbus] discards the potential for pathologic...\n",
       "4        a visually flashy but narratively opaque and e...\n",
       "                               ...                        \n",
       "10657    both exuberantly romantic and serenely melanch...\n",
       "10658    mazel tov to a film about a family's joyous li...\n",
       "10659    standing in the shadows of motown is the best ...\n",
       "10660    it's nice to see piscopo again after all these...\n",
       "10661    provides a porthole into that noble , tremblin...\n",
       "Name: Review, Length: 10662, dtype: object"
      ]
     },
     "execution_count": 9,
     "metadata": {},
     "output_type": "execute_result"
    }
   ],
   "source": [
    "X_review"
   ]
  },
  {
   "cell_type": "code",
   "execution_count": 10,
   "id": "b4f71c2c",
   "metadata": {},
   "outputs": [],
   "source": [
    "y_sentiment = movie_review.iloc[:,1]"
   ]
  },
  {
   "cell_type": "code",
   "execution_count": 11,
   "id": "9180d989",
   "metadata": {},
   "outputs": [
    {
     "data": {
      "text/plain": [
       "0        0\n",
       "1        0\n",
       "2        0\n",
       "3        0\n",
       "4        0\n",
       "        ..\n",
       "10657    1\n",
       "10658    1\n",
       "10659    1\n",
       "10660    1\n",
       "10661    1\n",
       "Name: Sentiment, Length: 10662, dtype: int64"
      ]
     },
     "execution_count": 11,
     "metadata": {},
     "output_type": "execute_result"
    }
   ],
   "source": [
    "y_sentiment"
   ]
  },
  {
   "cell_type": "code",
   "execution_count": 12,
   "id": "8a397f0a",
   "metadata": {},
   "outputs": [],
   "source": [
    "tfidf = TfidfVectorizer()\n",
    "matrix_X = tfidf.fit_transform(X_review)"
   ]
  },
  {
   "cell_type": "code",
   "execution_count": 13,
   "id": "bb14ed55",
   "metadata": {},
   "outputs": [
    {
     "data": {
      "text/plain": [
       "<10662x18367 sparse matrix of type '<class 'numpy.float64'>'\n",
       "\twith 179372 stored elements in Compressed Sparse Row format>"
      ]
     },
     "execution_count": 13,
     "metadata": {},
     "output_type": "execute_result"
    }
   ],
   "source": [
    "matrix_X"
   ]
  },
  {
   "cell_type": "code",
   "execution_count": 14,
   "id": "6a1991da",
   "metadata": {},
   "outputs": [
    {
     "data": {
      "text/plain": [
       "array([[0., 0., 0., ..., 0., 0., 0.],\n",
       "       [0., 0., 0., ..., 0., 0., 0.],\n",
       "       [0., 0., 0., ..., 0., 0., 0.],\n",
       "       ...,\n",
       "       [0., 0., 0., ..., 0., 0., 0.],\n",
       "       [0., 0., 0., ..., 0., 0., 0.],\n",
       "       [0., 0., 0., ..., 0., 0., 0.]])"
      ]
     },
     "execution_count": 14,
     "metadata": {},
     "output_type": "execute_result"
    }
   ],
   "source": [
    "matrix_X.toarray()"
   ]
  },
  {
   "cell_type": "code",
   "execution_count": 15,
   "id": "8f76bba4",
   "metadata": {},
   "outputs": [],
   "source": [
    "train_X, test_X, train_y, test_y = train_test_split(matrix_X, y_sentiment, shuffle = \"True\", test_size = 0.2)"
   ]
  },
  {
   "cell_type": "code",
   "execution_count": 16,
   "id": "e4b0a945",
   "metadata": {},
   "outputs": [
    {
     "data": {
      "text/plain": [
       "<8529x18367 sparse matrix of type '<class 'numpy.float64'>'\n",
       "\twith 143504 stored elements in Compressed Sparse Row format>"
      ]
     },
     "execution_count": 16,
     "metadata": {},
     "output_type": "execute_result"
    }
   ],
   "source": [
    "train_X"
   ]
  },
  {
   "cell_type": "code",
   "execution_count": 17,
   "id": "c7f232d0",
   "metadata": {},
   "outputs": [
    {
     "data": {
      "text/plain": [
       "<2133x18367 sparse matrix of type '<class 'numpy.float64'>'\n",
       "\twith 35868 stored elements in Compressed Sparse Row format>"
      ]
     },
     "execution_count": 17,
     "metadata": {},
     "output_type": "execute_result"
    }
   ],
   "source": [
    "test_X"
   ]
  },
  {
   "cell_type": "code",
   "execution_count": null,
   "id": "7419edc6",
   "metadata": {},
   "outputs": [],
   "source": []
  },
  {
   "cell_type": "code",
   "execution_count": 18,
   "id": "ca5c798e",
   "metadata": {},
   "outputs": [
    {
     "data": {
      "text/plain": [
       "0.7205813408345054"
      ]
     },
     "execution_count": 18,
     "metadata": {},
     "output_type": "execute_result"
    }
   ],
   "source": [
    "#Random Forest Classifier\n",
    "model_RF = RandomForestClassifier().fit(train_X, train_y)\n",
    "y_predict_RF = model_RF.predict(test_X)\n",
    "accuracy_RF = accuracy_score(test_y, y_predict_RF)\n",
    "accuracy_RF"
   ]
  },
  {
   "cell_type": "code",
   "execution_count": 19,
   "id": "46d421af",
   "metadata": {},
   "outputs": [
    {
     "data": {
      "text/plain": [
       "0.786685419596812"
      ]
     },
     "execution_count": 19,
     "metadata": {},
     "output_type": "execute_result"
    }
   ],
   "source": [
    "#Naive Bayes Classifier\n",
    "model_NB = MultinomialNB().fit(train_X, train_y)\n",
    "y_predict_NB = model_NB.predict(test_X)\n",
    "accuracy = accuracy_score(test_y, y_predict_NB)\n",
    "accuracy"
   ]
  },
  {
   "cell_type": "code",
   "execution_count": 20,
   "id": "27cac045",
   "metadata": {},
   "outputs": [
    {
     "data": {
      "text/plain": [
       "0.7604313173933427"
      ]
     },
     "execution_count": 20,
     "metadata": {},
     "output_type": "execute_result"
    }
   ],
   "source": [
    "# Logistic Regression\n",
    "model_LR = LogisticRegression().fit(train_X, train_y)\n",
    "y_predict_LR = model_LR.predict(test_X)\n",
    "accuracy = accuracy_score(test_y, y_predict_LR)\n",
    "accuracy"
   ]
  },
  {
   "cell_type": "code",
   "execution_count": 21,
   "id": "56e84065",
   "metadata": {},
   "outputs": [
    {
     "data": {
      "text/plain": [
       "0.7074542897327707"
      ]
     },
     "execution_count": 21,
     "metadata": {},
     "output_type": "execute_result"
    }
   ],
   "source": [
    "#KNeigbors Classifier \n",
    "model_KN = KNeighborsClassifier().fit(train_X, train_y)\n",
    "y_pred_KN = model_KN.predict(test_X)\n",
    "accuracy = accuracy_score(test_y, y_pred_KN)\n",
    "accuracy"
   ]
  },
  {
   "cell_type": "code",
   "execution_count": 22,
   "id": "06f62c96",
   "metadata": {},
   "outputs": [
    {
     "data": {
      "text/plain": [
       "0.7074542897327707"
      ]
     },
     "execution_count": 22,
     "metadata": {},
     "output_type": "execute_result"
    }
   ],
   "source": [
    "accuracy"
   ]
  },
  {
   "cell_type": "code",
   "execution_count": 23,
   "id": "342962c0",
   "metadata": {},
   "outputs": [
    {
     "data": {
      "text/plain": [
       "0.7735583684950773"
      ]
     },
     "execution_count": 23,
     "metadata": {},
     "output_type": "execute_result"
    }
   ],
   "source": [
    "model_SVC = SVC().fit(train_X, train_y)\n",
    "y_pred_SVC = model_SVC.predict(test_X)\n",
    "accuracy = accuracy_score(test_y, y_pred_SVC)\n",
    "accuracy"
   ]
  },
  {
   "cell_type": "code",
   "execution_count": 24,
   "id": "e99471b5",
   "metadata": {},
   "outputs": [
    {
     "data": {
      "text/plain": [
       "0.6104078762306611"
      ]
     },
     "execution_count": 24,
     "metadata": {},
     "output_type": "execute_result"
    }
   ],
   "source": [
    "model_DT = DecisionTreeClassifier().fit(train_X, train_y)\n",
    "y_pred_DT = model_DT.predict(test_X)\n",
    "accuracy_DT = accuracy_score(test_y, y_pred_DT)\n",
    "accuracy_DT"
   ]
  },
  {
   "cell_type": "code",
   "execution_count": 25,
   "id": "d2d2c838",
   "metadata": {},
   "outputs": [],
   "source": [
    "#Among the above classifiers, Naive Bayes Classifier has higher accuracy(0.7979371776840132) than others"
   ]
  }
 ],
 "metadata": {
  "kernelspec": {
   "display_name": "Python 3 (ipykernel)",
   "language": "python",
   "name": "python3"
  },
  "language_info": {
   "codemirror_mode": {
    "name": "ipython",
    "version": 3
   },
   "file_extension": ".py",
   "mimetype": "text/x-python",
   "name": "python",
   "nbconvert_exporter": "python",
   "pygments_lexer": "ipython3",
   "version": "3.9.7"
  }
 },
 "nbformat": 4,
 "nbformat_minor": 5
}
